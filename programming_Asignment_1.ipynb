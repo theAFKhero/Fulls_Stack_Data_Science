{
 "cells": [
  {
   "cell_type": "markdown",
   "id": "718b1f7d",
   "metadata": {},
   "source": [
    "1. Write a Python program to print &quot;Hello Python&quot;?"
   ]
  },
  {
   "cell_type": "code",
   "execution_count": 1,
   "id": "8a0a8cbe",
   "metadata": {},
   "outputs": [
    {
     "name": "stdout",
     "output_type": "stream",
     "text": [
      "Hello Python\n"
     ]
    }
   ],
   "source": [
    "print(\"Hello Python\")"
   ]
  },
  {
   "cell_type": "markdown",
   "id": "6cce2cf5",
   "metadata": {},
   "source": [
    "2. Write a Python program to do arithmetical operations addition and division.?"
   ]
  },
  {
   "cell_type": "code",
   "execution_count": 4,
   "id": "1e952311",
   "metadata": {},
   "outputs": [
    {
     "name": "stdout",
     "output_type": "stream",
     "text": [
      "110 12\n"
     ]
    }
   ],
   "source": [
    "x = 50 + 60\n",
    "y = int(60 / 5)\n",
    "\n",
    "print(x, y)"
   ]
  },
  {
   "cell_type": "markdown",
   "id": "1c04d827",
   "metadata": {},
   "source": [
    "3. Write a Python program to find the area of a triangle?"
   ]
  },
  {
   "cell_type": "code",
   "execution_count": 9,
   "id": "496a77d9",
   "metadata": {},
   "outputs": [
    {
     "name": "stdout",
     "output_type": "stream",
     "text": [
      "Area of the triangle:  15.0\n"
     ]
    }
   ],
   "source": [
    "base = 5\n",
    "\n",
    "heightBase = 6\n",
    "\n",
    "Area = float((heightBase * base) / 2)\n",
    "\n",
    "print(\"Area of the triangle: \",Area)"
   ]
  },
  {
   "cell_type": "markdown",
   "id": "f2d0e731",
   "metadata": {},
   "source": [
    "4. Write a Python program to swap two variables?"
   ]
  },
  {
   "cell_type": "code",
   "execution_count": 13,
   "id": "3f8a4413",
   "metadata": {},
   "outputs": [
    {
     "name": "stdout",
     "output_type": "stream",
     "text": [
      "Swapped First Value:  6\n",
      "Swapped Second Value: 5\n"
     ]
    }
   ],
   "source": [
    "first_value  = 5\n",
    "second_value = 6\n",
    "\n",
    "first_value = (first_value + second_value)\n",
    "\n",
    "second_value = first_value - second_value\n",
    "first_value = first_value - second_value\n",
    "\n",
    "print(\"Swapped First Value: \", first_value)\n",
    "print(\"Swapped Second Value:\", second_value)"
   ]
  },
  {
   "cell_type": "markdown",
   "id": "c06461da",
   "metadata": {},
   "source": [
    "5. Write a Python program to generate a random number?"
   ]
  },
  {
   "cell_type": "code",
   "execution_count": 23,
   "id": "a5761ea0",
   "metadata": {},
   "outputs": [
    {
     "name": "stdout",
     "output_type": "stream",
     "text": [
      "random number generator : 0.13115926266455613\n",
      "random integer generator: 35\n"
     ]
    }
   ],
   "source": [
    "import random\n",
    "\n",
    "genRandNum = random.random()\n",
    "\n",
    "genRandNum_1 = random.randint(1, 100)\n",
    "\n",
    "print(\"random number generator :\", genRandNum)\n",
    "print(\"random integer generator:\", genRandNum_1)"
   ]
  },
  {
   "cell_type": "code",
   "execution_count": null,
   "id": "eeea9abd",
   "metadata": {},
   "outputs": [],
   "source": []
  }
 ],
 "metadata": {
  "kernelspec": {
   "display_name": "Python 3 (ipykernel)",
   "language": "python",
   "name": "python3"
  },
  "language_info": {
   "codemirror_mode": {
    "name": "ipython",
    "version": 3
   },
   "file_extension": ".py",
   "mimetype": "text/x-python",
   "name": "python",
   "nbconvert_exporter": "python",
   "pygments_lexer": "ipython3",
   "version": "3.9.12"
  }
 },
 "nbformat": 4,
 "nbformat_minor": 5
}
