{
 "cells": [
  {
   "cell_type": "markdown",
   "id": "1ad47f78",
   "metadata": {},
   "source": [
    "1. python program to convert kilometer to miles"
   ]
  },
  {
   "cell_type": "code",
   "execution_count": 4,
   "id": "cbbf4c14",
   "metadata": {},
   "outputs": [],
   "source": [
    "def kil_mil(kil):\n",
    "    mil = kil * 0.621371\n",
    "    return mil"
   ]
  },
  {
   "cell_type": "code",
   "execution_count": 5,
   "id": "86749b7d",
   "metadata": {},
   "outputs": [
    {
     "data": {
      "text/plain": [
       "3.106855"
      ]
     },
     "execution_count": 5,
     "metadata": {},
     "output_type": "execute_result"
    }
   ],
   "source": [
    "kil_mil(5)"
   ]
  },
  {
   "cell_type": "markdown",
   "id": "c3fa1ccb",
   "metadata": {},
   "source": [
    "2. Write a Python program to convert Celsius to Fahrenheit?"
   ]
  },
  {
   "cell_type": "code",
   "execution_count": 8,
   "id": "3a9c7ec1",
   "metadata": {},
   "outputs": [],
   "source": [
    "#(0°C × 9/5) + 32 = 32°F\n",
    "def cel_far(cel):\n",
    "    far = cel * (9 / 5) + 32\n",
    "    return  far "
   ]
  },
  {
   "cell_type": "code",
   "execution_count": 9,
   "id": "42d45608",
   "metadata": {},
   "outputs": [
    {
     "data": {
      "text/plain": [
       "212.0"
      ]
     },
     "execution_count": 9,
     "metadata": {},
     "output_type": "execute_result"
    }
   ],
   "source": [
    "cel_far(100)"
   ]
  },
  {
   "cell_type": "markdown",
   "id": "ef94d242",
   "metadata": {},
   "source": [
    "3. Write a Python program to display calendar?"
   ]
  },
  {
   "cell_type": "code",
   "execution_count": 18,
   "id": "0cb52296",
   "metadata": {},
   "outputs": [],
   "source": [
    "import calendar\n",
    "\n",
    "def calen(year):\n",
    "    print(calendar.calendar(year))"
   ]
  },
  {
   "cell_type": "code",
   "execution_count": 19,
   "id": "d5b23273",
   "metadata": {},
   "outputs": [
    {
     "name": "stdout",
     "output_type": "stream",
     "text": [
      "                                  2022\n",
      "\n",
      "      January                   February                   March\n",
      "Mo Tu We Th Fr Sa Su      Mo Tu We Th Fr Sa Su      Mo Tu We Th Fr Sa Su\n",
      "                1  2          1  2  3  4  5  6          1  2  3  4  5  6\n",
      " 3  4  5  6  7  8  9       7  8  9 10 11 12 13       7  8  9 10 11 12 13\n",
      "10 11 12 13 14 15 16      14 15 16 17 18 19 20      14 15 16 17 18 19 20\n",
      "17 18 19 20 21 22 23      21 22 23 24 25 26 27      21 22 23 24 25 26 27\n",
      "24 25 26 27 28 29 30      28                        28 29 30 31\n",
      "31\n",
      "\n",
      "       April                      May                       June\n",
      "Mo Tu We Th Fr Sa Su      Mo Tu We Th Fr Sa Su      Mo Tu We Th Fr Sa Su\n",
      "             1  2  3                         1             1  2  3  4  5\n",
      " 4  5  6  7  8  9 10       2  3  4  5  6  7  8       6  7  8  9 10 11 12\n",
      "11 12 13 14 15 16 17       9 10 11 12 13 14 15      13 14 15 16 17 18 19\n",
      "18 19 20 21 22 23 24      16 17 18 19 20 21 22      20 21 22 23 24 25 26\n",
      "25 26 27 28 29 30         23 24 25 26 27 28 29      27 28 29 30\n",
      "                          30 31\n",
      "\n",
      "        July                     August                  September\n",
      "Mo Tu We Th Fr Sa Su      Mo Tu We Th Fr Sa Su      Mo Tu We Th Fr Sa Su\n",
      "             1  2  3       1  2  3  4  5  6  7                1  2  3  4\n",
      " 4  5  6  7  8  9 10       8  9 10 11 12 13 14       5  6  7  8  9 10 11\n",
      "11 12 13 14 15 16 17      15 16 17 18 19 20 21      12 13 14 15 16 17 18\n",
      "18 19 20 21 22 23 24      22 23 24 25 26 27 28      19 20 21 22 23 24 25\n",
      "25 26 27 28 29 30 31      29 30 31                  26 27 28 29 30\n",
      "\n",
      "      October                   November                  December\n",
      "Mo Tu We Th Fr Sa Su      Mo Tu We Th Fr Sa Su      Mo Tu We Th Fr Sa Su\n",
      "                1  2          1  2  3  4  5  6                1  2  3  4\n",
      " 3  4  5  6  7  8  9       7  8  9 10 11 12 13       5  6  7  8  9 10 11\n",
      "10 11 12 13 14 15 16      14 15 16 17 18 19 20      12 13 14 15 16 17 18\n",
      "17 18 19 20 21 22 23      21 22 23 24 25 26 27      19 20 21 22 23 24 25\n",
      "24 25 26 27 28 29 30      28 29 30                  26 27 28 29 30 31\n",
      "31\n",
      "\n"
     ]
    }
   ],
   "source": [
    "calen(2022)"
   ]
  },
  {
   "cell_type": "markdown",
   "id": "3d388e46",
   "metadata": {},
   "source": [
    "4. Write a Python program to solve quadratic equation?"
   ]
  },
  {
   "cell_type": "code",
   "execution_count": 25,
   "id": "5581d436",
   "metadata": {},
   "outputs": [],
   "source": [
    "# x = (-b +/- sqrt(b^2 - 4ac)) / 2a\n",
    "\n",
    "import math \n",
    "\n",
    "def solve_quadratic(a, b, c):\n",
    "    dis = b*b - 4*a*c\n",
    "    sqrt = math.sqrt(abs(dis))\n",
    "    if a != 0:\n",
    "        if dis > 0:\n",
    "            print(\"Real and Different roots\")\n",
    "            print((-b + sqrt)/ (2 * a))\n",
    "            print((-b - sqrt) / (2 * a))\n",
    "        elif dis == 0:\n",
    "            print(\"real and same roots\")\n",
    "            print(-b / (2 * a))\n",
    "        elif dis < 0:\n",
    "            print((-b / 2*a ), \" +i\", sqrt)\n",
    "            print((-b / 2*a), \"-i\", sqrt)\n",
    "    else:\n",
    "        print(\"input values are incorrect\")"
   ]
  },
  {
   "cell_type": "code",
   "execution_count": 27,
   "id": "57e05011",
   "metadata": {},
   "outputs": [
    {
     "name": "stdout",
     "output_type": "stream",
     "text": [
      "-3.0  +i 4.795831523312719\n",
      "-3.0 -i 4.795831523312719\n"
     ]
    }
   ],
   "source": [
    "solve_quadratic(2,3,4)"
   ]
  },
  {
   "cell_type": "markdown",
   "id": "738aafe3",
   "metadata": {},
   "source": [
    "5. Write a Python program to swap two variables without temp variable?"
   ]
  },
  {
   "cell_type": "code",
   "execution_count": 28,
   "id": "9789273c",
   "metadata": {},
   "outputs": [],
   "source": [
    "def swap_variable(a, b):\n",
    "    a = a + b\n",
    "    b = a - b\n",
    "    a = a - b\n",
    "    return a, b"
   ]
  },
  {
   "cell_type": "code",
   "execution_count": 29,
   "id": "f68cb02d",
   "metadata": {},
   "outputs": [
    {
     "data": {
      "text/plain": [
       "(5, 3)"
      ]
     },
     "execution_count": 29,
     "metadata": {},
     "output_type": "execute_result"
    }
   ],
   "source": [
    "swap_variable(3, 5)"
   ]
  },
  {
   "cell_type": "code",
   "execution_count": 31,
   "id": "7b95ab5b",
   "metadata": {},
   "outputs": [
    {
     "data": {
      "text/plain": [
       "tuple"
      ]
     },
     "execution_count": 31,
     "metadata": {},
     "output_type": "execute_result"
    }
   ],
   "source": [
    "type(swap_variable(3, 5))"
   ]
  },
  {
   "cell_type": "code",
   "execution_count": null,
   "id": "4856fe98",
   "metadata": {},
   "outputs": [],
   "source": []
  }
 ],
 "metadata": {
  "kernelspec": {
   "display_name": "Python 3 (ipykernel)",
   "language": "python",
   "name": "python3"
  },
  "language_info": {
   "codemirror_mode": {
    "name": "ipython",
    "version": 3
   },
   "file_extension": ".py",
   "mimetype": "text/x-python",
   "name": "python",
   "nbconvert_exporter": "python",
   "pygments_lexer": "ipython3",
   "version": "3.9.12"
  }
 },
 "nbformat": 4,
 "nbformat_minor": 5
}
