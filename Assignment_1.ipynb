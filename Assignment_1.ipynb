{
 "cells": [
  {
   "cell_type": "markdown",
   "id": "6e0a7a32",
   "metadata": {},
   "source": [
    "1.Values: \"hello\", -87.8, 6\n",
    "\n",
    "  expressions: *, -, /, +"
   ]
  },
  {
   "cell_type": "markdown",
   "id": "703d74e8",
   "metadata": {},
   "source": [
    "2. String is a primitive datatype in python. It is a combination of characters and numbers whereas, a variable is\n",
    "    a place in memory(RAM), which holds different values like int, float, string."
   ]
  },
  {
   "cell_type": "markdown",
   "id": "aa72ab20",
   "metadata": {},
   "source": [
    "3. There are five data types in python.\n",
    "\n",
    "     i. numerical datatype:\n",
    "         > Integer\n",
    "         > Float\n",
    "         > complex Numbers\n",
    "    ii. sequantial datatype:\n",
    "         > String\n",
    "         > List\n",
    "         > Tuple\n",
    "   iii. Boolean\n",
    "   \n",
    "    iv. Dictionary\n",
    "    \n",
    "     V. Set:\n",
    "         > Set\n",
    "         > Frozenset\n",
    " "
   ]
  },
  {
   "cell_type": "markdown",
   "id": "451accf7",
   "metadata": {},
   "source": [
    "Numerical datatype: This datatype represents numerical values like integer, float, and complex numbers in python. \n",
    "\n",
    "    \"int\" represensts integer values. which is a whole number (ex: -5,7, 9 ,96, ...).\n",
    "    \n",
    "    \"float\" represents floating values. It can be identified by decimal point (ex: 4.67, 3.14, -1.84, ...).\n",
    "    \n",
    "    \"complex\"  represents complex numbers. it is written in x+ yj format (ex: 2+4j, 5+9j, ...).\n",
    "\n",
    "Sequential datatype: sequence datatype represents collection of similar or various values like, integer, float, string etc. \n",
    "the elements are accessed by their index values. \n",
    "\n",
    "     \"list\" is a collection of unorgaized values like int, string, numbers and others. It values are separated by commasand grouped by parentheses.\n",
    "     ex: [3,\"python\", \"data\",\"science\",\"3.14\"]\n",
    "     \n",
    "    \"string\" represents ccollection of one nor more charactrs put in a single quote (ex: \"this is a string\").\n",
    "    \n",
    "    \"tuple\" represents a group of data that are separated by commas and grouped by parentheses (ex: (8,9,7),  (\"machine\",\"learning\")\n",
    "    \n",
    "Dictionary: Dictionary is an unordered list of values, where the data values are stored as a map. dictionary holds \n",
    "    the data as a key-value pair. Now every element of dictionary separated by comma(,) and every key-value pair separated byt colon(:).\n",
    "    \n",
    "    ex: {\"stream\": \"computer science\", \"year\": 3, \"grade\": 7.42}"
   ]
  },
  {
   "cell_type": "markdown",
   "id": "78cfddf1",
   "metadata": {},
   "source": [
    "4. An expression is a combination of different operators and operands which produces result. A expressionwith more than one operator will be evaluated as per their operator precedence. \n",
    "\n",
    "    Expressions produce results with the help of operators and operands. "
   ]
  },
  {
   "cell_type": "markdown",
   "id": "cae95c33",
   "metadata": {},
   "source": [
    "5. An expression is a combination of operator and operands whereas a statement does not have to be the same. \n",
    "\n",
    "   an expression\n",
    "\n",
    "    ex: x = (5 + 6) - 7 is an expression\n",
    "        print(\"this is an statement\")  is a statement"
   ]
  },
  {
   "cell_type": "markdown",
   "id": "3ae8c732",
   "metadata": {},
   "source": [
    "6. bacon  = 22\n",
    "\n",
    "   bacon + 1\n",
    "\n",
    "   bacon = 23"
   ]
  },
  {
   "cell_type": "markdown",
   "id": "609dd136",
   "metadata": {},
   "source": [
    "7. 'spam' + 'spamspam' == 'spamspamspam'\n",
    "\n",
    "    'spam' * 3 == 'spamspamspam'"
   ]
  },
  {
   "cell_type": "markdown",
   "id": "83810956",
   "metadata": {},
   "source": [
    "8. The compiler gets when program used numerical values as identifier or variable and causes syntax error. "
   ]
  },
  {
   "cell_type": "markdown",
   "id": "20c2d425",
   "metadata": {},
   "source": [
    "9. the three functions are\n",
    "      >int()\n",
    "      \n",
    "      >float()\n",
    "      \n",
    "      >str()"
   ]
  },
  {
   "cell_type": "markdown",
   "id": "5ca54af6",
   "metadata": {},
   "source": [
    "10. python can't concatinate string with integers. In a broader sense addition is not possible for different data types. So, it will cause a type error.\n",
    "\n",
    "    it can be fixed if we use quotation around 99.\n",
    "    \n",
    "      'I have eaten ' + '99' + ' burritos'\n",
    "\n",
    "   > 'I have eaten 99 burritos'"
   ]
  },
  {
   "cell_type": "markdown",
   "id": "3b5b4f2a",
   "metadata": {},
   "source": [
    "  "
   ]
  },
  {
   "cell_type": "code",
   "execution_count": null,
   "id": "fd37a11d",
   "metadata": {},
   "outputs": [],
   "source": []
  },
  {
   "cell_type": "code",
   "execution_count": null,
   "id": "0afe38c4",
   "metadata": {},
   "outputs": [],
   "source": []
  }
 ],
 "metadata": {
  "kernelspec": {
   "display_name": "Python 3 (ipykernel)",
   "language": "python",
   "name": "python3"
  },
  "language_info": {
   "codemirror_mode": {
    "name": "ipython",
    "version": 3
   },
   "file_extension": ".py",
   "mimetype": "text/x-python",
   "name": "python",
   "nbconvert_exporter": "python",
   "pygments_lexer": "ipython3",
   "version": "3.9.12"
  }
 },
 "nbformat": 4,
 "nbformat_minor": 5
}
