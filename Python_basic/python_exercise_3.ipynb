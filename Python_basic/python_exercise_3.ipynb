{
 "cells": [
  {
   "cell_type": "markdown",
   "id": "59bcb2c4",
   "metadata": {},
   "source": [
    "1. Count the number of times `iNeuron` appears in the string.\n",
    "```python\n",
    "\n",
    "text = \"Welcome to iNeuron, You are a part of FSDS Bootcamp 2 in iNeuron. I hope you are enjoying the course by iNeuron\""
   ]
  },
  {
   "cell_type": "code",
   "execution_count": 7,
   "id": "6f83498a",
   "metadata": {},
   "outputs": [
    {
     "data": {
      "text/plain": [
       "3"
      ]
     },
     "execution_count": 7,
     "metadata": {},
     "output_type": "execute_result"
    }
   ],
   "source": [
    "text = \"Welcome to iNeuron, You are a part of FSDS Bootcamp 2 in iNeuron. I hope you are enjoying the course by iNeuron\"\n",
    "\n",
    "#string.count() method represnts the value of occurence of a particular string(sub-string) in a large string \n",
    "text.count(\"iNeuron\")"
   ]
  },
  {
   "cell_type": "markdown",
   "id": "4be3d0e4",
   "metadata": {},
   "source": [
    "2. Check if position `5` to `11` ends with the phrase `iNeuron.` in the string \n",
    "```python\n",
    "\n",
    "txt = \"Hello, welcome to FSDS 2.0 at iNeuron.\""
   ]
  },
  {
   "cell_type": "code",
   "execution_count": 13,
   "id": "736aabd7",
   "metadata": {},
   "outputs": [
    {
     "data": {
      "text/plain": [
       "0"
      ]
     },
     "execution_count": 13,
     "metadata": {},
     "output_type": "execute_result"
    }
   ],
   "source": [
    "txt = \"Hello, welcome to FSDS 2.0 at iNeuron.\"\n",
    "\n",
    "(txt.count(\"iNeuron\", 5, 11))"
   ]
  },
  {
   "cell_type": "markdown",
   "id": "88de649b",
   "metadata": {},
   "source": [
    "3. Write a program that takes your full name as input and displays the abbreviations of the first and middle names except the last name which is displayed as it is. For example, if your name is Sunny Bhaveen Chandra, then the output should be S.B.Chandra.\n"
   ]
  },
  {
   "cell_type": "code",
   "execution_count": 69,
   "id": "7cc34503",
   "metadata": {},
   "outputs": [
    {
     "name": "stdout",
     "output_type": "stream",
     "text": [
      "M.S.M\n"
     ]
    }
   ],
   "source": [
    "name = \"Madhu Sudan Mandal\" #I am quite sure it's much easier. i am making it so harder for myself for no reason.\n",
    "\n",
    "sub_text = name.split(\" \")\n",
    "full_text = \"\"\n",
    "for string in sub_text:\n",
    "    if string[0].isupper():\n",
    "        full_text = full_text + (\".\".join(string[0]))\n",
    "    full_text\n",
    "print(\".\".join(full_text))"
   ]
  },
  {
   "cell_type": "code",
   "execution_count": 85,
   "id": "077c0cbb",
   "metadata": {},
   "outputs": [
    {
     "name": "stdout",
     "output_type": "stream",
     "text": [
      "M.S.Mandal\n"
     ]
    }
   ],
   "source": [
    "name = \"Madhu Sudan Mandal\"  #different approach but it works. dont know if it is allowed or not. \n",
    "\n",
    "sub_text = name.split(\" \")\n",
    "full_text = \"\"\n",
    "for string in (0, len(sub_text)-2):\n",
    "    if sub_text[string][0].isupper():\n",
    "        full_text = full_text + (\".\".join(sub_text[string][0]))\n",
    "    full_text\n",
    "print(\".\".join(full_text) + \"\".join(\".\") + \"\".join(sub_text[2]))"
   ]
  },
  {
   "cell_type": "code",
   "execution_count": 50,
   "id": "dff22213",
   "metadata": {},
   "outputs": [
    {
     "data": {
      "text/plain": [
       "'My#name#is#Rishav#Dash'"
      ]
     },
     "execution_count": 50,
     "metadata": {},
     "output_type": "execute_result"
    }
   ],
   "source": [
    "LIST = [\"My\", \"name\", \"is\", \"Rishav\", \"Dash\"]\n",
    "\n",
    "\"#\".join(LIST)"
   ]
  },
  {
   "cell_type": "markdown",
   "id": "e75e9a95",
   "metadata": {},
   "source": [
    "5. Write example for the following string manipulation function,\n",
    "\n",
    "  ```\n",
    "  - isdecimal()\n",
    "  - islower()\n",
    "  - isupper()\n",
    "  - isalpha()\n",
    "  - isnumeric()\n"
   ]
  },
  {
   "cell_type": "code",
   "execution_count": 34,
   "id": "313df556",
   "metadata": {},
   "outputs": [
    {
     "data": {
      "text/plain": [
       "(True, False, False, False, True)"
      ]
     },
     "execution_count": 34,
     "metadata": {},
     "output_type": "execute_result"
    }
   ],
   "source": [
    "num = \"5\"\n",
    "\n",
    "num.isdecimal(), num.islower(), num.isupper(), num.isalpha(), num.isnumeric()"
   ]
  },
  {
   "cell_type": "markdown",
   "id": "59060686",
   "metadata": {},
   "source": [
    "6. Indian PAN card format follows the following formats - \n",
    "    - `AYEPC7894X`\n",
    "    - `ABCDE9999Y`\n",
    "    \n",
    "  Take user input for PAN_CARD and validate as per the above example.\n"
   ]
  },
  {
   "cell_type": "code",
   "execution_count": 47,
   "id": "c7457087",
   "metadata": {},
   "outputs": [
    {
     "name": "stdout",
     "output_type": "stream",
     "text": [
      "This is a valid PAN CARD number \n"
     ]
    }
   ],
   "source": [
    "pan_card = int(input(\"ENTER YOUR PAN CARD ID: \"))\n",
    "\n",
    "if pan_card[0 : 4].isalpha(): #checking if the first five indexex contain alpthabet\n",
    "    \n",
    "    if pan_card [5 : 9].isnumeric(): #checking if the later four indexes contain numeric value\n",
    "        \n",
    "        if pan_card[9 : 10].isalpha(): #checking if the last index contains alphabet\n",
    "            \n",
    "            print(\"This is a valid PAN CARD \")\n",
    "        else:\n",
    "            print(\"This is not a valid PAN CARD\")\n",
    "    else:\n",
    "        print(\"This is not a valid PAN CARD\")\n",
    "else:\n",
    "    print(\"This is not a valid PAN CARD\")"
   ]
  },
  {
   "cell_type": "code",
   "execution_count": 46,
   "id": "962e809a",
   "metadata": {},
   "outputs": [
    {
     "data": {
      "text/plain": [
       "('MMNNO', '7777', 'Z')"
      ]
     },
     "execution_count": 46,
     "metadata": {},
     "output_type": "execute_result"
    }
   ],
   "source": [
    "pan_card[0:5], pan_card[5: 9], pan_card[9: 10] #double-checking i it works or not"
   ]
  },
  {
   "cell_type": "code",
   "execution_count": null,
   "id": "916375ef",
   "metadata": {},
   "outputs": [],
   "source": []
  },
  {
   "cell_type": "code",
   "execution_count": null,
   "id": "af33b12b",
   "metadata": {},
   "outputs": [],
   "source": []
  }
 ],
 "metadata": {
  "kernelspec": {
   "display_name": "Python 3 (ipykernel)",
   "language": "python",
   "name": "python3"
  },
  "language_info": {
   "codemirror_mode": {
    "name": "ipython",
    "version": 3
   },
   "file_extension": ".py",
   "mimetype": "text/x-python",
   "name": "python",
   "nbconvert_exporter": "python",
   "pygments_lexer": "ipython3",
   "version": "3.9.12"
  }
 },
 "nbformat": 4,
 "nbformat_minor": 5
}
