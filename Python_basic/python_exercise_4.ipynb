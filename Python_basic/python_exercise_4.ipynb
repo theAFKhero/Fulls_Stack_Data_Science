{
 "cells": [
  {
   "cell_type": "markdown",
   "id": "8565c457",
   "metadata": {},
   "source": [
    "Q1. Find the largest number from the given list, use for loop.\n",
    "\n",
    "```\n",
    "numbers = [12, 75, 150, 180, 145, 525, 50]\n",
    "```"
   ]
  },
  {
   "cell_type": "code",
   "execution_count": 8,
   "id": "5d72583a",
   "metadata": {},
   "outputs": [
    {
     "name": "stdout",
     "output_type": "stream",
     "text": [
      "525 is the largest number in the list.\n"
     ]
    }
   ],
   "source": [
    "numbers = [12, 75, 150, 180, 145, 525, 50]\n",
    "maximum = 0\n",
    "for i in numbers:\n",
    "    if i >  maximum:\n",
    "        maximum = i\n",
    "    \n",
    "print(f\"{maximum} is the largest number in the list.\")    "
   ]
  },
  {
   "cell_type": "markdown",
   "id": "b52ef03a",
   "metadata": {},
   "source": [
    "Q2. Print all the even number between (1, 12)."
   ]
  },
  {
   "cell_type": "code",
   "execution_count": 15,
   "id": "65e8fe55",
   "metadata": {},
   "outputs": [
    {
     "name": "stdout",
     "output_type": "stream",
     "text": [
      "2\n",
      "4\n",
      "6\n",
      "8\n",
      "10\n"
     ]
    }
   ],
   "source": [
    "for i in range(1, 12):\n",
    "    if i % 2 == 0: print(i)"
   ]
  },
  {
   "cell_type": "markdown",
   "id": "6c7ffc11",
   "metadata": {},
   "source": [
    "Q3. Calculate the sum of all numbers from 1 to a given number\n",
    "    \n",
    "    Expected Output:\n",
    "\n",
    "    Enter number 10\n",
    "    \n",
    "    Sum is:  55\n"
   ]
  },
  {
   "cell_type": "code",
   "execution_count": 19,
   "id": "391c45f3",
   "metadata": {},
   "outputs": [
    {
     "name": "stdout",
     "output_type": "stream",
     "text": [
      "Enter Number: 10\n",
      "summation: 55\n"
     ]
    }
   ],
   "source": [
    "numbers = int(input(\"Enter Number: \"))\n",
    "summation = 0\n",
    "for i in range(1, numbers+1):\n",
    "    summation = summation + i\n",
    "    \n",
    "print(f\"summation: {summation}\")"
   ]
  },
  {
   "cell_type": "markdown",
   "id": "60a8362b",
   "metadata": {},
   "source": [
    "Q4. Write a program to display only those numbers from a list that satisfy the following conditions\n",
    "\n",
    "- The number must be divisible by five\n",
    "\n",
    "- If the number is greater than 150, then skip it and move to the next number\n",
    "\n",
    "- If the number is greater than 500, then stop the loop"
   ]
  },
  {
   "cell_type": "code",
   "execution_count": 22,
   "id": "8a6c363c",
   "metadata": {},
   "outputs": [
    {
     "name": "stdout",
     "output_type": "stream",
     "text": [
      "75 is divisible by 5 \n",
      "\n",
      "150 is divisible by 5 \n",
      "\n",
      "180 is divisible by 5 \n",
      "\n",
      "180 are greater than 150\n",
      "\n",
      "145 is divisible by 5 \n",
      "\n",
      "525 is divisible by 5 \n",
      "\n",
      "525 are greater than 150\n",
      "\n",
      "50 is divisible by 5 \n",
      "\n"
     ]
    }
   ],
   "source": [
    "numbers = [12, 75, 150, 180, 145, 525, 50]\n",
    "\n",
    "for i in range(len(numbers)):\n",
    "    if numbers[i] % 5 == 0:\n",
    "        print(f\"{numbers[i]} is divisible by 5 \\n\")\n",
    "        if numbers[i] > 150:\n",
    "            print(f\"{numbers[i]} are greater than 150\\n\")\n",
    "            continue\n",
    "        elif numbers[i] > 500:\n",
    "            print(f\"{numbers[i]} is greater than 500\\n \")\n",
    "            break\n",
    "    "
   ]
  },
  {
   "cell_type": "markdown",
   "id": "eb34e3da",
   "metadata": {},
   "source": [
    "Q5. Print the given list in reverse order.\n",
    "\n",
    "```\n",
    "list1 = [10, 20, 30, 40, 50]"
   ]
  },
  {
   "cell_type": "code",
   "execution_count": 23,
   "id": "4fcf2a09",
   "metadata": {},
   "outputs": [
    {
     "data": {
      "text/plain": [
       "[50, 40, 30, 20, 10]"
      ]
     },
     "execution_count": 23,
     "metadata": {},
     "output_type": "execute_result"
    }
   ],
   "source": [
    "List1 = [10, 20, 30, 40 , 50]\n",
    "\n",
    "List1[::-1]"
   ]
  },
  {
   "cell_type": "code",
   "execution_count": null,
   "id": "176854da",
   "metadata": {},
   "outputs": [],
   "source": []
  }
 ],
 "metadata": {
  "kernelspec": {
   "display_name": "Python 3 (ipykernel)",
   "language": "python",
   "name": "python3"
  },
  "language_info": {
   "codemirror_mode": {
    "name": "ipython",
    "version": 3
   },
   "file_extension": ".py",
   "mimetype": "text/x-python",
   "name": "python",
   "nbconvert_exporter": "python",
   "pygments_lexer": "ipython3",
   "version": "3.9.12"
  }
 },
 "nbformat": 4,
 "nbformat_minor": 5
}
