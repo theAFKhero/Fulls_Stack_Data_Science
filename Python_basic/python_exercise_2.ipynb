{
 "cells": [
  {
   "cell_type": "markdown",
   "id": "df6617b8",
   "metadata": {},
   "source": [
    "1. What is indentation error? Why indentation is important? Give one simple example?"
   ]
  },
  {
   "cell_type": "markdown",
   "id": "e9432e94",
   "metadata": {},
   "source": [
    "i.Python interpreter does not use curly braces to identify a block of code unlike other programming languages like c, c#, java     etc.programmers often makes a mistake while giving proper indentation like space or tabs to a block of code, then python         interpreter can't identify to which part, that block of code belongs to. and  shows the \"Indentation error\".\n"
   ]
  },
  {
   "cell_type": "markdown",
   "id": "a711bf6d",
   "metadata": {},
   "source": [
    "ii. Indentation error shows to which part a block of code belongs to, to execute that block of code. If python interpreter fails to identify, it will show an error and the program will not be executed."
   ]
  },
  {
   "cell_type": "code",
   "execution_count": 1,
   "id": "0e5798f3",
   "metadata": {},
   "outputs": [
    {
     "ename": "IndentationError",
     "evalue": "expected an indented block (3291880401.py, line 2)",
     "output_type": "error",
     "traceback": [
      "\u001b[1;36m  Input \u001b[1;32mIn [1]\u001b[1;36m\u001b[0m\n\u001b[1;33m    print(i)\u001b[0m\n\u001b[1;37m    ^\u001b[0m\n\u001b[1;31mIndentationError\u001b[0m\u001b[1;31m:\u001b[0m expected an indented block\n"
     ]
    }
   ],
   "source": [
    "for i in range(0, 10):\n",
    "print(i)"
   ]
  },
  {
   "cell_type": "code",
   "execution_count": 4,
   "id": "bb94f058",
   "metadata": {},
   "outputs": [
    {
     "name": "stdout",
     "output_type": "stream",
     "text": [
      "0 1 2 3 4 5 6 7 8 9 "
     ]
    }
   ],
   "source": [
    "for i in range(0, 10):\n",
    "    print(i, end=\" \")"
   ]
  },
  {
   "cell_type": "markdown",
   "id": "fec90d3c",
   "metadata": {},
   "source": [
    "2. Correct the following code and write the comment where you made the correction?\n",
    "\n",
    "  ```python\n",
    "  class_started = bool(input(\"Hey friend, is class started?: [0-False/1-True]\"))\n",
    "\n",
    "  if class_started:\n",
    "      print(\"Since class started...\")\n",
    "      print(\"Lets concentrate\")\n",
    "  else:\n",
    "      print(\"Since class is not started...\")\n",
    "      print(\"let's revise\")    \n",
    "  ```\n",
    "\n",
    "  **HINT:** Refer your data type conversion class"
   ]
  },
  {
   "cell_type": "code",
   "execution_count": 10,
   "id": "fbd86347",
   "metadata": {},
   "outputs": [
    {
     "name": "stdout",
     "output_type": "stream",
     "text": [
      "Hey friend, is class started?: [0-False/1-True]0\n",
      "Since class is not started...\n",
      "let's revise\n"
     ]
    }
   ],
   "source": [
    "class_started = bool(int(input(\"Hey friend, is class started?: [0-False/1-True]\")))\n",
    "\n",
    "if class_started :\n",
    "      print(\"Since class started...\")\n",
    "      print(\"Lets concentrate\")\n",
    "else:\n",
    "      print(\"Since class is not started...\")\n",
    "      print(\"let's revise\")   "
   ]
  },
  {
   "cell_type": "markdown",
   "id": "24564d92",
   "metadata": {},
   "source": [
    "In the above program, we've got an input() function. The default type of input value is string. So, we need to convert into an integer and then convert to a boolean value. otherwise, as long as we are providing value to that input funtion it will identify as \"True\"."
   ]
  },
  {
   "cell_type": "code",
   "execution_count": 13,
   "id": "ff8ade76",
   "metadata": {},
   "outputs": [
    {
     "name": "stdout",
     "output_type": "stream",
     "text": [
      "0\n",
      "0\n"
     ]
    },
    {
     "data": {
      "text/plain": [
       "(str, True)"
      ]
     },
     "execution_count": 13,
     "metadata": {},
     "output_type": "execute_result"
    }
   ],
   "source": [
    "type(input(\"\")), bool(input())\n",
    "\n"
   ]
  },
  {
   "cell_type": "code",
   "execution_count": 14,
   "id": "30ee0310",
   "metadata": {},
   "outputs": [
    {
     "name": "stdout",
     "output_type": "stream",
     "text": [
      "1\n",
      "1\n"
     ]
    },
    {
     "data": {
      "text/plain": [
       "(str, True)"
      ]
     },
     "execution_count": 14,
     "metadata": {},
     "output_type": "execute_result"
    }
   ],
   "source": [
    "type(input(\"\")), bool(input())\n"
   ]
  },
  {
   "cell_type": "markdown",
   "id": "e6d7019b",
   "metadata": {},
   "source": []
  },
  {
   "cell_type": "markdown",
   "id": "86def9cd",
   "metadata": {},
   "source": [
    "\n",
    "3. Use if else condition to verify that dataype of `input()` method in python is always string."
   ]
  },
  {
   "cell_type": "code",
   "execution_count": 11,
   "id": "a4e73942",
   "metadata": {},
   "outputs": [
    {
     "name": "stdout",
     "output_type": "stream",
     "text": [
      "provide the value: 1\n",
      "True\n"
     ]
    }
   ],
   "source": [
    "is_string = input(\"provide the value: \")\n",
    "\n",
    "if type(is_string) == str:\n",
    "    print(True)\n",
    "else:\n",
    "    print(False)"
   ]
  },
  {
   "cell_type": "markdown",
   "id": "6d2688dc",
   "metadata": {},
   "source": [
    "4. Take 3 variables and assign integer values to them. Find the largest variable, by only using the if and else conditions."
   ]
  },
  {
   "cell_type": "code",
   "execution_count": 10,
   "id": "1d46c604",
   "metadata": {},
   "outputs": [
    {
     "name": "stdout",
     "output_type": "stream",
     "text": [
      "48 is the largest\n"
     ]
    }
   ],
   "source": [
    "first_value, second_value, third_value = 35, 48, 46\n",
    "\n",
    "if (third_value > first_value):\n",
    "        if (third_value > second_value):\n",
    "            print(f\"{third_value} is the largest.\")\n",
    "            \n",
    "        else:\n",
    "            print(f\"{second_value} is the largest\")\n",
    "            \n",
    "else:\n",
    "    print(f\"{first_value} is the largest\")"
   ]
  },
  {
   "cell_type": "markdown",
   "id": "d59b7134",
   "metadata": {},
   "source": [
    "5. What would be the solution?\n",
    "    1. True\n",
    "    2. False\n",
    "\n",
    "    ```python\n",
    "    a = 6\n",
    "    b = 10\n",
    "    print( not ( not a == 10 or not b == 10) )"
   ]
  },
  {
   "cell_type": "markdown",
   "id": "1c8c4f46",
   "metadata": {},
   "source": [
    "Answer: False"
   ]
  },
  {
   "cell_type": "markdown",
   "id": "53e873f0",
   "metadata": {},
   "source": [
    "6. Find the answer as well as find out the reason behind the result? -\n",
    "    - case 1:\n",
    "        ```python\n",
    "        A = 5.0\n",
    "        B = 10/2\n",
    "        print(A is B)\n",
    "        ```\n",
    "    - case 2:\n",
    "        ```python\n",
    "        A = 5.0\n",
    "        B = int(10/2)\n",
    "        print(A is B)\n",
    "        ```\n",
    "    - case 3:\n",
    "        ```python\n",
    "        A = 5.0\n",
    "        B = float(10/2)\n",
    "        print(A is B)\n",
    "        ```"
   ]
  },
  {
   "cell_type": "markdown",
   "id": "f96d6e5c",
   "metadata": {},
   "source": [
    "Answer: False. Even though division operator returns a float value by default, the id() function proves that they are not the same object, so They might seem same, but actually they are not.\n",
    "\n",
    "So, all of them will have same answer.False."
   ]
  },
  {
   "cell_type": "code",
   "execution_count": null,
   "id": "ad5210c1",
   "metadata": {},
   "outputs": [],
   "source": []
  },
  {
   "cell_type": "markdown",
   "id": "66aee4cc",
   "metadata": {},
   "source": [
    "7. Write a program that asks the user to enter a number. You should print out a message to the user, either “That number is divisible by either 3 or 5”, or “That number is not divisible by either 3 or 5”. Be sure to consider the data type of the input you are taking in from the user. Use a single if/else block to solve this problem."
   ]
  },
  {
   "cell_type": "code",
   "execution_count": 33,
   "id": "4f5bb93a",
   "metadata": {},
   "outputs": [
    {
     "name": "stdout",
     "output_type": "stream",
     "text": [
      "enter the value: 8768965\n",
      "That number is divisible by 3 or 5\n"
     ]
    }
   ],
   "source": [
    "given_number = int(input(\"enter the value: \"))\n",
    "\n",
    "#checking if the value are divisble by 3 or 5.\n",
    "if (given_number % 3== 0 or given_number % 5 == 0):\n",
    "    print(\"That number is divisible by 3 or 5\")\n",
    "else:\n",
    "    print(\"That number is not divisble by 3 or 5\")"
   ]
  },
  {
   "cell_type": "markdown",
   "id": "f95ace60",
   "metadata": {},
   "source": [
    "8. Take user input for length and width. Then calculate the area of rectangle. Also print as per length and width whether its a square of rectangle."
   ]
  },
  {
   "cell_type": "code",
   "execution_count": 36,
   "id": "485b0ba0",
   "metadata": {},
   "outputs": [
    {
     "name": "stdout",
     "output_type": "stream",
     "text": [
      "provide the length: 5\n",
      "provide the width: 4\n",
      "area: 20\n",
      "This is a rectangle\n"
     ]
    }
   ],
   "source": [
    "length = int(input(\"provide the length: \"))\n",
    "width = int(input(\"provide the width: \"))\n",
    "\n",
    "#calculating and printing area of an rectangle from the given value\n",
    "area = length * width\n",
    "print(f\"area: {area}\")\n",
    "\n",
    "#checking if length and width are same to determine if its a rectengalae or square\n",
    "if (length == width):\n",
    "    print(\"This is a square\")\n",
    "else:\n",
    "    print(\"This is a rectangle\")"
   ]
  },
  {
   "cell_type": "markdown",
   "id": "dcbf6323",
   "metadata": {},
   "source": [
    "9. Take two variable radius_1 and radius_2 and calculate the area of circle_1 and circle_2. Also print which circle has large area. If area is equal then print area is equal."
   ]
  },
  {
   "cell_type": "code",
   "execution_count": 1,
   "id": "eb6fda75",
   "metadata": {},
   "outputs": [
    {
     "name": "stdout",
     "output_type": "stream",
     "text": [
      "provide the radius for circle 1: 5\n",
      "provide the radius for circle 2: 4\n",
      "area of circle 1: 78.5\n",
      "area of circle 2: 50.24\n",
      "Are of circle 1 is larger than area of circle 2 \n"
     ]
    }
   ],
   "source": [
    "radius_1 = int(input(\"provide the radius for circle 1: \"))\n",
    "radius_2 = int(input(\"provide the radius for circle 2: \"))\n",
    "\n",
    "#defining the value of pi = 3.14\n",
    "pi =3.14\n",
    "\n",
    "#area of circle 1\n",
    "areaOfCircle_1 = pi * (radius_1 ** 2)\n",
    "print(f\"area of circle 1: {areaOfCircle_1}\")\n",
    "\n",
    "#area of circle 2\n",
    "areaOfCircle_2 = pi * (radius_2 ** 2)\n",
    "print(f\"area of circle 2: {areaOfCircle_2}\")\n",
    "\n",
    "if areaOfCircle_1 > areaOfCircle_2:\n",
    "    print(\"Are of circle 1 is larger than area of circle 2 \")\n",
    "elif areaOfCircle_2 > areaOfCircle_1:\n",
    "    print(\"Are of circle 2 is larger than area of circle 1 \")\n",
    "else:\n",
    "    print(\"Both of the area of those circle are same.\")"
   ]
  },
  {
   "cell_type": "markdown",
   "id": "760b8419",
   "metadata": {},
   "source": [
    "10. Check whether a year is leap year or not. Use nested if...else to solve this problem. A leap year is exactly divisible by 4 except for century years (years ending with 00). The century year is a leap year only if it is perfectly divisible by 400."
   ]
  },
  {
   "cell_type": "code",
   "execution_count": 52,
   "id": "72a5a694",
   "metadata": {},
   "outputs": [
    {
     "name": "stdout",
     "output_type": "stream",
     "text": [
      "enter the year: 2424\n",
      "2424 is a leap year\n"
     ]
    }
   ],
   "source": [
    "provided_year = int(input(\"enter the year: \"))\n",
    "\n",
    "#checking if its a leap year or not\n",
    "if provided_year % 4 == 0 and provided_year % 100 == 0:\n",
    "    if provided_year % 400 == 0:\n",
    "        print(f\"{provided_year} is a leap year\")\n",
    "    else:\n",
    "        print(f\"{provided_year} is not a leap year\")\n",
    "elif provided_year % 4 == 0:\n",
    "    print(f\"{provided_year} is a leap year\")\n",
    "else:\n",
    "    print(f\"{provided_year} is not leap year\")"
   ]
  },
  {
   "cell_type": "code",
   "execution_count": null,
   "id": "d0c40705",
   "metadata": {},
   "outputs": [],
   "source": []
  },
  {
   "cell_type": "code",
   "execution_count": null,
   "id": "0b9c0dc4",
   "metadata": {},
   "outputs": [],
   "source": []
  }
 ],
 "metadata": {
  "kernelspec": {
   "display_name": "Python 3 (ipykernel)",
   "language": "python",
   "name": "python3"
  },
  "language_info": {
   "codemirror_mode": {
    "name": "ipython",
    "version": 3
   },
   "file_extension": ".py",
   "mimetype": "text/x-python",
   "name": "python",
   "nbconvert_exporter": "python",
   "pygments_lexer": "ipython3",
   "version": "3.9.12"
  }
 },
 "nbformat": 4,
 "nbformat_minor": 5
}
