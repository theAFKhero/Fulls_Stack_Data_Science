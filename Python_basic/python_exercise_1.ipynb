{
 "cells": [
  {
   "cell_type": "markdown",
   "id": "3a5e160a",
   "metadata": {},
   "source": [
    "TO: query@ineuron.ai CC: sunny@ineuron.ai, riishav@ineuron.ai, boktiar@ineuron.ai\n",
    "\n",
    "Subject: [Bootcamp 2.0 | Assignment No. 1]:\n",
    "\n",
    "    1. Find out all the types of error that we have encountered in our lecture and why? Also include the examples.\n",
    "    2. Take input A and B and print their sum, mul, div, square of the nos.\n",
    "    3. How many reserve keywords are there in python and why we should not use them as a variable name.\n",
    "    4. Create email ids with the user inputs. in the following format - lastname.firstname@gmail.com\n",
    "    5. Try to print the following lines -\n",
    "        i. Hi I'm Sunny\n",
    "        ii. My address is 22\\3\n",
    "        iii. I earn 20$ daily.\n",
    "    6 Take user input (name, address, date of birth etc) to fill a form for your college and print their email IDs\n",
    "    7. Convert the following -\n",
    "        i. \"22.4\" into integer\n",
    "        ii. \"22\" into complex no.\n"
   ]
  },
  {
   "cell_type": "code",
   "execution_count": null,
   "id": "378bbcbd",
   "metadata": {},
   "outputs": [],
   "source": [
    "#1. Find out all the types of error that we have encountered in our lecture and why? Also include the examples."
   ]
  },
  {
   "cell_type": "markdown",
   "id": "f361e540",
   "metadata": {},
   "source": [
    "## i.naming convention\n",
    "\n",
    "  The first error was due to variable naming . We first used to different variables to named \"TEN\" and \"ten\" to hold\n",
    "  two different values 10 and 20. However, we used variable name \"Ten\" to get the value of it, which was not defined. That \n",
    "  is the reason we get the \"NameError\"\n",
    "\n"
   ]
  },
  {
   "cell_type": "code",
   "execution_count": 1,
   "id": "051979a0",
   "metadata": {},
   "outputs": [
    {
     "ename": "NameError",
     "evalue": "name 'Ten' is not defined",
     "output_type": "error",
     "traceback": [
      "\u001b[1;31m---------------------------------------------------------------------------\u001b[0m",
      "\u001b[1;31mNameError\u001b[0m                                 Traceback (most recent call last)",
      "Input \u001b[1;32mIn [1]\u001b[0m, in \u001b[0;36m<cell line: 6>\u001b[1;34m()\u001b[0m\n\u001b[0;32m      3\u001b[0m TEN \u001b[38;5;241m=\u001b[39m \u001b[38;5;241m10\u001b[39m\n\u001b[0;32m      4\u001b[0m ten \u001b[38;5;241m=\u001b[39m \u001b[38;5;241m20\u001b[39m\n\u001b[1;32m----> 6\u001b[0m \u001b[38;5;28mprint\u001b[39m(\u001b[43mTen\u001b[49m)\n",
      "\u001b[1;31mNameError\u001b[0m: name 'Ten' is not defined"
     ]
    }
   ],
   "source": [
    "#example:\n",
    "\n",
    "TEN = 10\n",
    "ten = 20\n",
    "\n",
    "print(Ten)"
   ]
  },
  {
   "cell_type": "markdown",
   "id": "45f11b1f",
   "metadata": {},
   "source": [
    "## ii. reserved words\n",
    "    There are few reserved words in python for the sake of unambiguity in naming convention. \"print\" is one of them. Although,\n",
    "    python will not restrict anyone to use that keyword, however, it will cause problem in the code.\n",
    "    "
   ]
  },
  {
   "cell_type": "code",
   "execution_count": 3,
   "id": "fcfabd81",
   "metadata": {},
   "outputs": [
    {
     "ename": "TypeError",
     "evalue": "'str' object is not callable",
     "output_type": "error",
     "traceback": [
      "\u001b[1;31m---------------------------------------------------------------------------\u001b[0m",
      "\u001b[1;31mTypeError\u001b[0m                                 Traceback (most recent call last)",
      "Input \u001b[1;32mIn [3]\u001b[0m, in \u001b[0;36m<cell line: 5>\u001b[1;34m()\u001b[0m\n\u001b[0;32m      1\u001b[0m \u001b[38;5;66;03m#example\u001b[39;00m\n\u001b[0;32m      3\u001b[0m \u001b[38;5;28mprint\u001b[39m \u001b[38;5;241m=\u001b[39m \u001b[38;5;124m\"\u001b[39m\u001b[38;5;124mHello World\u001b[39m\u001b[38;5;124m\"\u001b[39m\n\u001b[1;32m----> 5\u001b[0m \u001b[38;5;28;43mprint\u001b[39;49m\u001b[43m(\u001b[49m\u001b[38;5;124;43m\"\u001b[39;49m\u001b[38;5;124;43mHello world\u001b[39;49m\u001b[38;5;124;43m\"\u001b[39;49m\u001b[43m)\u001b[49m\n",
      "\u001b[1;31mTypeError\u001b[0m: 'str' object is not callable"
     ]
    }
   ],
   "source": [
    "#example_1\n",
    "\n",
    "print = \"Hello World\"\n",
    "\n",
    "print(\"Hello world\")\n",
    "\n"
   ]
  },
  {
   "cell_type": "code",
   "execution_count": 6,
   "id": "8aa8a0b6",
   "metadata": {},
   "outputs": [
    {
     "ename": "TypeError",
     "evalue": "'int' object is not callable",
     "output_type": "error",
     "traceback": [
      "\u001b[1;31m---------------------------------------------------------------------------\u001b[0m",
      "\u001b[1;31mTypeError\u001b[0m                                 Traceback (most recent call last)",
      "Input \u001b[1;32mIn [6]\u001b[0m, in \u001b[0;36m<cell line: 5>\u001b[1;34m()\u001b[0m\n\u001b[0;32m      1\u001b[0m \u001b[38;5;66;03m#example_2\u001b[39;00m\n\u001b[0;32m      3\u001b[0m \u001b[38;5;28mprint\u001b[39m \u001b[38;5;241m=\u001b[39m \u001b[38;5;241m12\u001b[39m\n\u001b[1;32m----> 5\u001b[0m \u001b[38;5;28mtype\u001b[39m(\u001b[38;5;28;43mprint\u001b[39;49m\u001b[43m(\u001b[49m\u001b[43m)\u001b[49m)\n",
      "\u001b[1;31mTypeError\u001b[0m: 'int' object is not callable"
     ]
    }
   ],
   "source": [
    "#example_2\n",
    "\n",
    "print = 12\n",
    "\n",
    "type(print())"
   ]
  },
  {
   "cell_type": "markdown",
   "id": "aa63abfb",
   "metadata": {},
   "source": [
    "## iii.typecasting\n",
    "\n",
    "We do not need to use datatype to declare variable name. python will handle it implicitly.\n",
    "\n",
    "If we do, it will casuse and syntax error.\n"
   ]
  },
  {
   "cell_type": "code",
   "execution_count": 7,
   "id": "157ac522",
   "metadata": {},
   "outputs": [
    {
     "ename": "SyntaxError",
     "evalue": "invalid syntax (1286463532.py, line 3)",
     "output_type": "error",
     "traceback": [
      "\u001b[1;36m  Input \u001b[1;32mIn [7]\u001b[1;36m\u001b[0m\n\u001b[1;33m    int pyt\u001b[0m\n\u001b[1;37m        ^\u001b[0m\n\u001b[1;31mSyntaxError\u001b[0m\u001b[1;31m:\u001b[0m invalid syntax\n"
     ]
    }
   ],
   "source": [
    "#example\n",
    "\n",
    "int pyt"
   ]
  },
  {
   "cell_type": "code",
   "execution_count": 8,
   "id": "e011db0e",
   "metadata": {},
   "outputs": [
    {
     "ename": "SyntaxError",
     "evalue": "invalid syntax (3549385007.py, line 3)",
     "output_type": "error",
     "traceback": [
      "\u001b[1;36m  Input \u001b[1;32mIn [8]\u001b[1;36m\u001b[0m\n\u001b[1;33m    str pyt = \"hello world\"\u001b[0m\n\u001b[1;37m        ^\u001b[0m\n\u001b[1;31mSyntaxError\u001b[0m\u001b[1;31m:\u001b[0m invalid syntax\n"
     ]
    }
   ],
   "source": [
    "#example_2\n",
    "\n",
    "str pyt = \"hello world\""
   ]
  },
  {
   "cell_type": "markdown",
   "id": "7e05c04a",
   "metadata": {},
   "source": [
    "# iv. type conversion\n",
    "\n",
    "   convert into float first and then to int. \n",
    "    \n",
    "  "
   ]
  },
  {
   "cell_type": "code",
   "execution_count": 1,
   "id": "d42a0f8c",
   "metadata": {},
   "outputs": [
    {
     "name": "stdout",
     "output_type": "stream",
     "text": [
      "enter number: 10.2\n"
     ]
    },
    {
     "ename": "ValueError",
     "evalue": "invalid literal for int() with base 10: '10.2'",
     "output_type": "error",
     "traceback": [
      "\u001b[1;31m---------------------------------------------------------------------------\u001b[0m",
      "\u001b[1;31mValueError\u001b[0m                                Traceback (most recent call last)",
      "Input \u001b[1;32mIn [1]\u001b[0m, in \u001b[0;36m<cell line: 1>\u001b[1;34m()\u001b[0m\n\u001b[1;32m----> 1\u001b[0m A \u001b[38;5;241m=\u001b[39m \u001b[38;5;28;43mint\u001b[39;49m\u001b[43m(\u001b[49m\u001b[38;5;28;43minput\u001b[39;49m\u001b[43m(\u001b[49m\u001b[38;5;124;43m\"\u001b[39;49m\u001b[38;5;124;43menter number: \u001b[39;49m\u001b[38;5;124;43m\"\u001b[39;49m\u001b[43m)\u001b[49m\u001b[43m)\u001b[49m\n",
      "\u001b[1;31mValueError\u001b[0m: invalid literal for int() with base 10: '10.2'"
     ]
    }
   ],
   "source": [
    "A = int(input(\"enter number: \"))"
   ]
  },
  {
   "cell_type": "markdown",
   "id": "4a924a34",
   "metadata": {},
   "source": [
    "## 2. Take input A and B and print their sum, mul, div, square of the nos."
   ]
  },
  {
   "cell_type": "code",
   "execution_count": 12,
   "id": "99d41378",
   "metadata": {},
   "outputs": [
    {
     "name": "stdout",
     "output_type": "stream",
     "text": [
      "enter the value of first value: 3 \n",
      "enter the value of second value: 4\n",
      "SUM: 7\n",
      "MUL: 12\n",
      "DIV: 0.75\n",
      " SQUARE of A : 9, SQUARE OF B:  16\n"
     ]
    }
   ],
   "source": [
    "A = int(input(\"enter the value of first value: \"))\n",
    "\n",
    "B = int(input(\"enter the value of second value: \"))\n",
    "\n",
    "SUM = A + B\n",
    "MUL = A * B\n",
    "DIV = A / B\n",
    "squareA = A ** 2\n",
    "squareB = B ** 2\n",
    "\n",
    "print(f\"SUM: {SUM}\")\n",
    "\n",
    "print(f\"MUL: {MUL}\")\n",
    "\n",
    "print(f\"DIV: {DIV}\")\n",
    "\n",
    "print(f\" SQUARE of A : {squareA}, SQUARE OF B:  {squareB}\")"
   ]
  },
  {
   "cell_type": "markdown",
   "id": "89d51705",
   "metadata": {},
   "source": [
    "## 3. How many reserve keywords are there in python and why we should not use them as a variable name."
   ]
  },
  {
   "cell_type": "markdown",
   "id": "5f3e4b3b",
   "metadata": {},
   "source": [
    "There are 31 reserved keyowrds in python.\n",
    "\n",
    "We hsould not use reserved keywords to mitigate the ambiguity and chance of causing any error due to it."
   ]
  },
  {
   "cell_type": "markdown",
   "id": "391a5712",
   "metadata": {},
   "source": [
    "# ## 4. Create email ids with the user inputs. in the following format - lastname.firstname@gmail.com"
   ]
  },
  {
   "cell_type": "code",
   "execution_count": 14,
   "id": "f8c8a5be",
   "metadata": {},
   "outputs": [
    {
     "name": "stdout",
     "output_type": "stream",
     "text": [
      "enter the first name: madhusudan\n",
      "enter the last name: mandal\n",
      "mandal.madhusudan@gmail.com\n"
     ]
    }
   ],
   "source": [
    "first_name = input(\"enter the first name: \")\n",
    "last_name = input(\"enter the last name: \")\n",
    "\n",
    "print(f\"{last_name}.{first_name}@gmail.com\")"
   ]
  },
  {
   "cell_type": "markdown",
   "id": "e351e5a2",
   "metadata": {},
   "source": [
    "## 5. Try to print the following lines -\n",
    "###    i. Hi I'm Sunny\n",
    "###    ii. My address is 22\\3"
   ]
  },
  {
   "cell_type": "code",
   "execution_count": 15,
   "id": "2f1d8be9",
   "metadata": {},
   "outputs": [
    {
     "name": "stdout",
     "output_type": "stream",
     "text": [
      "Hi I'm Sunny\n",
      "My address is 22\u0003\n",
      "I earn 20$ daily\n"
     ]
    }
   ],
   "source": [
    "print(\"Hi I'm Sunny\")\n",
    "\n",
    "print(\"My address is 22\\3\")\n",
    "\n",
    "print(\"I earn 20$ daily\")"
   ]
  },
  {
   "cell_type": "markdown",
   "id": "2b3d1737",
   "metadata": {},
   "source": [
    "### Take user input (name, address, date of birth etc) to fill a form for your college and print their email IDs"
   ]
  },
  {
   "cell_type": "code",
   "execution_count": 24,
   "id": "787093e3",
   "metadata": {},
   "outputs": [
    {
     "name": "stdout",
     "output_type": "stream",
     "text": [
      "enter your first name: madhusudan\n",
      "enter your last name: mandal\n",
      "enter your address: WB\n",
      "enter your birth year: 1998\n",
      "\n",
      "Name: madhusudanmandal\n",
      "Address: WB\n",
      "D.O.B: 1998\n",
      "\n",
      "mandal.madhusudan@college.com\n"
     ]
    }
   ],
   "source": [
    "first_name = input(\"enter your first name: \")\n",
    "last_name = input(\"enter your last name: \")\n",
    "address = input(\"enter your address: \")\n",
    "date_of_birth = input(\"enter your birth year: \")\n",
    "print(\"\")\n",
    "print(f\"Name: {first_name}{last_name}\\n\"\n",
    "      f\"Address: {address}\\n\"\n",
    "      f\"D.O.B: {date_of_birth}\\n\")\n",
    "\n",
    "print(f\"{last_name}.{first_name}@college.com\")\n"
   ]
  },
  {
   "cell_type": "markdown",
   "id": "94e3d9be",
   "metadata": {},
   "source": [
    "## 7. Convert the following -\n",
    "###    i. \"22.4\" into integer\n",
    "###    ii. \"22\" into complex no."
   ]
  },
  {
   "cell_type": "code",
   "execution_count": 27,
   "id": "605990c5",
   "metadata": {},
   "outputs": [
    {
     "data": {
      "text/plain": [
       "22"
      ]
     },
     "execution_count": 27,
     "metadata": {},
     "output_type": "execute_result"
    }
   ],
   "source": [
    "int(float(\"22.4\"))"
   ]
  },
  {
   "cell_type": "code",
   "execution_count": 26,
   "id": "839e9376",
   "metadata": {},
   "outputs": [
    {
     "data": {
      "text/plain": [
       "(22+0j)"
      ]
     },
     "execution_count": 26,
     "metadata": {},
     "output_type": "execute_result"
    }
   ],
   "source": [
    "complex(22)"
   ]
  },
  {
   "cell_type": "code",
   "execution_count": null,
   "id": "94078f7b",
   "metadata": {},
   "outputs": [],
   "source": []
  }
 ],
 "metadata": {
  "kernelspec": {
   "display_name": "Python 3 (ipykernel)",
   "language": "python",
   "name": "python3"
  },
  "language_info": {
   "codemirror_mode": {
    "name": "ipython",
    "version": 3
   },
   "file_extension": ".py",
   "mimetype": "text/x-python",
   "name": "python",
   "nbconvert_exporter": "python",
   "pygments_lexer": "ipython3",
   "version": "3.9.12"
  }
 },
 "nbformat": 4,
 "nbformat_minor": 5
}
